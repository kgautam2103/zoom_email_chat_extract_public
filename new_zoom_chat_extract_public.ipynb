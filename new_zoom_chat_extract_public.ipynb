{
  "nbformat": 4,
  "nbformat_minor": 0,
  "metadata": {
    "colab": {
      "name": "new_zoom_chat_extract_public.ipynb",
      "provenance": [],
      "collapsed_sections": [],
      "authorship_tag": "ABX9TyO7xgbpmwcIQX5KrELau0yA",
      "include_colab_link": true
    },
    "kernelspec": {
      "name": "python3",
      "display_name": "Python 3"
    },
    "language_info": {
      "name": "python"
    }
  },
  "cells": [
    {
      "cell_type": "markdown",
      "metadata": {
        "id": "view-in-github",
        "colab_type": "text"
      },
      "source": [
        "<a href=\"https://colab.research.google.com/github/kgautam2103/zoom_email_chat_extract_public/blob/main/new_zoom_chat_extract_public.ipynb\" target=\"_parent\"><img src=\"https://colab.research.google.com/assets/colab-badge.svg\" alt=\"Open In Colab\"/></a>"
      ]
    },
    {
      "cell_type": "code",
      "metadata": {
        "id": "Wn6z3zUmsXL0"
      },
      "source": [
        "# when you run this code, you will get a link below\n",
        "#Follow the link, copy the code, paste it in the box and then press Enter on the keyboard.\n",
        "#This will authenticate you and will allow you to interact with Google Sheets and other Google apps in your notebook.\n",
        "from google.colab import auth\n",
        "auth.authenticate_user()\n",
        "import gspread\n",
        "from oauth2client.client import GoogleCredentials\n",
        "gc = gspread.authorize(GoogleCredentials.get_application_default())"
      ],
      "execution_count": null,
      "outputs": []
    },
    {
      "cell_type": "code",
      "metadata": {
        "id": "cf4xjGSM61_Q",
        "colab": {
          "resources": {
            "http://localhost:8080/nbextensions/google.colab/files.js": {
              "data": "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",
              "ok": true,
              "headers": [
                [
                  "content-type",
                  "application/javascript"
                ]
              ],
              "status": 200,
              "status_text": ""
            }
          },
          "base_uri": "https://localhost:8080/",
          "height": 73
        },
        "outputId": "6800aede-0484-4a60-882b-6c7eb60b3b84"
      },
      "source": [
        "import sys\n",
        "import re\n",
        "import pandas as pd\n",
        "import numpy as np\n",
        "import traceback\n",
        "from io import StringIO\n",
        "\n",
        "wb = gc.open_by_url('https://docs.google.com/spreadsheets/d/1WhACIU6F7i9VwDxXoqzx6GEwutQI5HpIYl4v6H49-7Q/edit#gid=0')\n",
        "\n",
        "input_sheet = wb.worksheet('sahajyogis')\n",
        "inputdata = input_sheet.get_all_values()\n",
        "inputdata_df = pd.DataFrame(inputdata, columns=['id','name','email'])\n",
        "inputdata_df = inputdata_df.drop(inputdata_df.index[0])\n",
        "ref_name_list = list(filter(None, inputdata_df['name'].tolist()))\n",
        "ref_name_list = [i.lower() for i in ref_name_list]\n",
        "\n",
        "from google.colab import files\n",
        "chat_upload = files.upload()\n",
        "\n",
        "value_iterator = iter(chat_upload.values()) \n",
        "chat_details = next(value_iterator)\n",
        "chat_details = str(chat_details.decode('utf-8'))\n",
        "#chat_str = StringIO(chat_details)\n",
        "#chat_data = pd.read_csv(chat_str, sep=\" : \",names=[\"details\",\"chat\"])\n",
        "\n",
        "combined_list = chat_details.split(\"\\r\\n\")\n",
        "x=1\n",
        "details_list = []\n",
        "chat_list = []\n",
        "for items in combined_list:\n",
        "  if x%2 != 0:\n",
        "    details_list.append(items.replace('\\t',''))\n",
        "  else:\n",
        "    chat_list.append(items.replace('\\t',''))\n",
        "  x=x+1\n",
        "\n",
        "chat_data = pd.DataFrame(list(zip(details_list, chat_list)),\n",
        "               columns =['details', 'chat'])\n",
        "\n",
        "chat_data = chat_data.replace(to_replace='None', value=np.nan).dropna()\n",
        "detail_list = chat_data[\"details\"].values.tolist()\n",
        "name_list=[]\n",
        "for name_detail in detail_list:\n",
        "  from_index = name_detail.find(\" From \")\n",
        "  to_index = name_detail.find(\" to \")\n",
        "  if to_index == -1:\n",
        "      name = name_detail[from_index + 6:]\n",
        "  else:\n",
        "      name = name_detail[from_index + 6:to_index - 1]\n",
        "  name_list.append(name)\n",
        "  #print(from_index,to_index,name)\n",
        "chat_data[\"name\"] = name_list\n",
        "\n",
        "chat_list = chat_data[\"chat\"].values.tolist()\n",
        "email_list = []\n",
        "for chat in chat_list:\n",
        "  atrate_index = chat.find(\"@\")\n",
        "  #print(atrate_index)\n",
        "  if atrate_index == -1:\n",
        "      email = \"\"\n",
        "  else:\n",
        "      space_index_before = chat[:atrate_index].rfind(\" \")\n",
        "      space_index_after = chat[atrate_index:].find(\" \")\n",
        "      if space_index_after == -1 and space_index_before == -1:\n",
        "          email = chat\n",
        "      else:\n",
        "          #email = chat[space_index_before+1:space_index_after+1]\n",
        "          if space_index_before == -1:\n",
        "              email = chat[:atrate_index+space_index_after]\n",
        "          elif space_index_after == -1:\n",
        "              email = chat[space_index_before+1:]\n",
        "          else:\n",
        "              email = chat[space_index_before+1:atrate_index+space_index_after]\n",
        "  email_list.append(email)\n",
        "\n",
        "chat_data[\"email\"] = email_list\n",
        "extract_df = chat_data[[\"name\",\"email\",\"chat\"]]\n",
        "#final_df_email = extract_df.groupby(\"name\").apply(lambda x: x[\"email\"].tolist())\n",
        "final_df_email = extract_df.groupby(\"name\").apply(lambda x: [x[\"email\"].tolist(), x[\"chat\"].tolist()]).apply(pd.Series)\n",
        "#final_df_email.columns=[\"name\",\"email\"]\n",
        "\n",
        "#concat_df = pd.concat([final_df_email[0].reset_index(),final_df_email[1].reset_index()],axis=1)\n",
        "\n",
        "merge_df = pd.merge(final_df_email[0].reset_index(),final_df_email[1].reset_index(),on=\"name\")\n",
        "\n",
        "final_df = merge_df.rename(columns={0:'email',1:'chat'}, inplace=False)\n",
        "\n",
        "final_df['email'] = [(','.join(list(set(rx)))).strip(',')for rx in final_df['email']]\n",
        "\n",
        "final_df['chat'] = [(', '.join(rx)).strip(',')for rx in final_df['chat']]\n",
        "\n",
        "final_df['name'] = final_df['name'].apply(lambda x: re.sub('^sy[\\.\\s_-]*','',x,flags=re.IGNORECASE))\\\n",
        "  .apply(lambda x: re.sub('[\\.\\s_-]*sy$','',x,flags=re.IGNORECASE))\n",
        "\n",
        "final_df = final_df[~(final_df.name).str.lower().isin(ref_name_list)]\n",
        "\n",
        "final_df.to_csv('ZoomChat_Extract.csv') \n",
        "files.download(\"ZoomChat_Extract.csv\")\n",
        "\n",
        "#final_df"
      ],
      "execution_count": null,
      "outputs": [
        {
          "output_type": "display_data",
          "data": {
            "text/html": [
              "\n",
              "     <input type=\"file\" id=\"files-53245fe1-0047-4577-8f46-132e21aeb8ee\" name=\"files[]\" multiple disabled\n",
              "        style=\"border:none\" />\n",
              "     <output id=\"result-53245fe1-0047-4577-8f46-132e21aeb8ee\">\n",
              "      Upload widget is only available when the cell has been executed in the\n",
              "      current browser session. Please rerun this cell to enable.\n",
              "      </output>\n",
              "      <script src=\"/nbextensions/google.colab/files.js\"></script> "
            ],
            "text/plain": [
              "<IPython.core.display.HTML object>"
            ]
          },
          "metadata": {}
        },
        {
          "output_type": "stream",
          "name": "stdout",
          "text": [
            "Saving meeting_saved_chat.txt to meeting_saved_chat.txt\n"
          ]
        },
        {
          "output_type": "display_data",
          "data": {
            "application/javascript": [
              "\n",
              "    async function download(id, filename, size) {\n",
              "      if (!google.colab.kernel.accessAllowed) {\n",
              "        return;\n",
              "      }\n",
              "      const div = document.createElement('div');\n",
              "      const label = document.createElement('label');\n",
              "      label.textContent = `Downloading \"${filename}\": `;\n",
              "      div.appendChild(label);\n",
              "      const progress = document.createElement('progress');\n",
              "      progress.max = size;\n",
              "      div.appendChild(progress);\n",
              "      document.body.appendChild(div);\n",
              "\n",
              "      const buffers = [];\n",
              "      let downloaded = 0;\n",
              "\n",
              "      const channel = await google.colab.kernel.comms.open(id);\n",
              "      // Send a message to notify the kernel that we're ready.\n",
              "      channel.send({})\n",
              "\n",
              "      for await (const message of channel.messages) {\n",
              "        // Send a message to notify the kernel that we're ready.\n",
              "        channel.send({})\n",
              "        if (message.buffers) {\n",
              "          for (const buffer of message.buffers) {\n",
              "            buffers.push(buffer);\n",
              "            downloaded += buffer.byteLength;\n",
              "            progress.value = downloaded;\n",
              "          }\n",
              "        }\n",
              "      }\n",
              "      const blob = new Blob(buffers, {type: 'application/binary'});\n",
              "      const a = document.createElement('a');\n",
              "      a.href = window.URL.createObjectURL(blob);\n",
              "      a.download = filename;\n",
              "      div.appendChild(a);\n",
              "      a.click();\n",
              "      div.remove();\n",
              "    }\n",
              "  "
            ],
            "text/plain": [
              "<IPython.core.display.Javascript object>"
            ]
          },
          "metadata": {}
        },
        {
          "output_type": "display_data",
          "data": {
            "application/javascript": [
              "download(\"download_8d9b652f-3e45-41c7-9d2a-af9d34ae2c9e\", \"ZoomChat_Extract.csv\", 7197)"
            ],
            "text/plain": [
              "<IPython.core.display.Javascript object>"
            ]
          },
          "metadata": {}
        }
      ]
    },
    {
      "cell_type": "code",
      "metadata": {
        "colab": {
          "base_uri": "https://localhost:8080/",
          "height": 34
        },
        "id": "OC90R4FbBkAj",
        "outputId": "74f444c5-2118-4288-cf78-9c020f1b8a92"
      },
      "source": [
        "import pandas as pd\n",
        "\n",
        "wb = gc.open_by_url('https://docs.google.com/spreadsheets/d/1YHIfMt0OFUvrYPyXZHTKKGTvDjBp9fKiFgfoGL_XLxs/edit?ts=5ee5b2b7#gid=227936794')\n",
        "\n",
        "poll1_sheet = wb.worksheet('MainPoll1')\n",
        "poll1_data = poll1_sheet.get_all_values()\n",
        "poll1_df = pd.DataFrame(poll1_data, columns=['event','name','poll1_answer'])\n",
        "poll1_df = poll1_df.drop(poll1_df.index[0])\n",
        "\n",
        "poll2_sheet = wb.worksheet('MainPoll2')\n",
        "poll2_data = poll2_sheet.get_all_values()\n",
        "poll2_df = pd.DataFrame(poll2_data, columns=['event','name','poll2_answer1','poll2_answer2','poll2_answer3'])\n",
        "poll2_df = poll2_df.drop(poll2_df.index[0])\n",
        "filter_event = input(\"enter event name like 20210626 APAC : \")\n",
        "\n",
        "filter = poll1_df['event'] == filter_event\n",
        "poll1_df_filtered = poll1_df.where(filter).dropna()\n",
        "poll2_df_filtered = poll2_df.where(filter).dropna()\n",
        "\n",
        "poll1_df_chat = pd.merge(final_df, poll1_df_filtered, on='name', how='outer')\n",
        "\n",
        "Combined_poll_df_chat = pd.merge(poll1_df_chat, poll2_df_filtered, on='name', how='outer')\n",
        "\n",
        "Combined_poll_df_chat_select = Combined_poll_df_chat[['name','email','chat','poll1_answer','poll2_answer1','poll2_answer2','poll2_answer3']]\n",
        "#Combined_poll_df_chat_select.dropna(how='all')\n",
        "\n",
        "Combined_poll_df_chat_select = Combined_poll_df_chat_select.replace(to_replace='None', value=np.nan).dropna(how='all')\n",
        "\n",
        "Combined_poll_df_chat_select.to_csv('ZoomChat_Poll_Extract.csv') \n",
        "files.download(\"ZoomChat_Poll_Extract.csv\")\n",
        "\n",
        "\n"
      ],
      "execution_count": null,
      "outputs": [
        {
          "name": "stdout",
          "output_type": "stream",
          "text": [
            "enter event name like 20210626 APAC : 20210912 APAC\n"
          ]
        },
        {
          "output_type": "display_data",
          "data": {
            "application/javascript": [
              "\n",
              "    async function download(id, filename, size) {\n",
              "      if (!google.colab.kernel.accessAllowed) {\n",
              "        return;\n",
              "      }\n",
              "      const div = document.createElement('div');\n",
              "      const label = document.createElement('label');\n",
              "      label.textContent = `Downloading \"${filename}\": `;\n",
              "      div.appendChild(label);\n",
              "      const progress = document.createElement('progress');\n",
              "      progress.max = size;\n",
              "      div.appendChild(progress);\n",
              "      document.body.appendChild(div);\n",
              "\n",
              "      const buffers = [];\n",
              "      let downloaded = 0;\n",
              "\n",
              "      const channel = await google.colab.kernel.comms.open(id);\n",
              "      // Send a message to notify the kernel that we're ready.\n",
              "      channel.send({})\n",
              "\n",
              "      for await (const message of channel.messages) {\n",
              "        // Send a message to notify the kernel that we're ready.\n",
              "        channel.send({})\n",
              "        if (message.buffers) {\n",
              "          for (const buffer of message.buffers) {\n",
              "            buffers.push(buffer);\n",
              "            downloaded += buffer.byteLength;\n",
              "            progress.value = downloaded;\n",
              "          }\n",
              "        }\n",
              "      }\n",
              "      const blob = new Blob(buffers, {type: 'application/binary'});\n",
              "      const a = document.createElement('a');\n",
              "      a.href = window.URL.createObjectURL(blob);\n",
              "      a.download = filename;\n",
              "      div.appendChild(a);\n",
              "      a.click();\n",
              "      div.remove();\n",
              "    }\n",
              "  "
            ],
            "text/plain": [
              "<IPython.core.display.Javascript object>"
            ]
          },
          "metadata": {}
        },
        {
          "output_type": "display_data",
          "data": {
            "application/javascript": [
              "download(\"download_781470e8-e51f-4e64-ae55-e2febbfd9c45\", \"ZoomChat_Poll_Extract.csv\", 12447)"
            ],
            "text/plain": [
              "<IPython.core.display.Javascript object>"
            ]
          },
          "metadata": {}
        }
      ]
    },
    {
      "cell_type": "code",
      "source": [
        "chat_details"
      ],
      "metadata": {
        "colab": {
          "base_uri": "https://localhost:8080/",
          "height": 140
        },
        "id": "D3aNFhnweO-8",
        "outputId": "8717cae8-2a24-4e8c-bca6-8e2bc7927d13"
      },
      "execution_count": null,
      "outputs": [
        {
          "output_type": "execute_result",
          "data": {
            "application/vnd.google.colaboratory.intrinsic+json": {
              "type": "string"
            },
            "text/plain": [
              "\"08:09:09 From  deepshikhathakur  to  Everyone:\\nKindly make me the co host.\\n08:10:45 From  alice mk  to  Everyone:\\n2nd time\\n08:10:58 From  Sahaja Yoga  to  Everyone:\\nplease share your email id and location if possible\\n08:11:33 From  Seth  to  Everyone:\\n1st time. usa, wyoming.\\n08:15:46 From  Eric Suvak  to  Everyone:\\neasuvak@hotmail.com\\n08:15:53 From  Helena  to  Everyone:\\nI've. been over 2×\\n08:15:56 From  Sonali Kumari  to  Everyone:\\nSonalikumari@hotmail.com\\n08:15:58 From  afazaa  to  Everyone:\\nffnufarzana@gmail.com\\n08:16:13 From  Arulmani Kulanthaivelu  to  Everyone:\\narulmanikp@gmail.com Charlotte NC USA\\n08:16:15 From  Katherine Velasquez  to  Everyone:\\nVelasquezk2006@gmail.com\\n08:16:40 From  Andrew L  to  Everyone:\\nAndrew from Hong Kong: a.lister.hk@gmail.com\\n08:16:46 From  Laura Kaschmitter  to  Everyone:\\nRoygbp777@hotmail Spokane WA\\n08:16:48 From  Andrew L  to  Everyone:\\n10:45 am here\\n08:17:19 From  Eric Suvak  to  Everyone:\\nhello from Cleveland Ohio\\n08:18:16 From  Natalia  to  Everyone:\\nhello from Montreal\\n08:18:36 From  Sonali Kumari  to  Everyone:\\nThis good for my health\\n08:18:37 From  Sahaja Yoga  to  Everyone:\\nwelcome all\\n08:18:45 From  afazaa  to  Everyone:\\nAtlanta, GA\\n08:19:33 From  Sahaja Yoga  to  Everyone:\\nplease share email id\\n08:20:45 From  Elizabeth  to  Sahaja Yoga(Direct Message):\\nemail ID: chingliz@hotmail.com\\n08:20:51 From  Tony  to  Everyone:\\nynotriv@gmail.com\\n08:21:13 From  Tony  to  Everyone:\\nI am Tony\\n08:21:42 From  B L  to  Everyone:\\nI’d like to know more about bandhan meditation if that is in scope of what you teach\\n08:25:20 From  Sahaja Yoga  to  Everyone:\\nplease share email id\\n08:25:35 From  B L  to  Everyone:\\nWho is the “mother” a spirit?\\n08:25:40 From  Manish  to  Everyone:\\n1st timer. mndumur2005@hotmail.com\\n08:25:43 From  Mok Chun Yin  to  Sahaja Yoga(Direct Message):\\nMy email: mok3.14159@gmail.com\\n08:26:12 From  Christ E.Lisangan  to  Sahaja Yoga(Direct Message):\\n1st timer. clisangan@gmail.com - Christ Lisangan\\n08:26:15 From  Virut  to  Sahaja Yoga(Direct Message):\\nsunsunhemnilrat@gmail.com\\n08:26:39 From  Sherril  to  Sahaja Yoga(Direct Message):\\nsherrilmccleary@bigpond.com\\n08:27:02 From  liz  to  Sahaja Yoga(Direct Message):\\nkoli30561@gmail.com\\n08:48:48 From  freeman  to  Everyone:\\ncan't hear anything\\n08:55:37 From  Seth  to  Everyone:\\ntingling in left thumb\\n08:55:41 From  Sahaja Yoga  to  Everyone:\\nplease share your feedback\\n08:55:50 From  Manish  to  Everyone:\\nsweating\\n08:55:52 From  liz  to  Everyone:\\nWhy do I always get itchy when doing this meditation\\n08:56:04 From  B L  to  Sahaja Yoga(Direct Message):\\nI started to see golden orbs\\n08:56:07 From  Sahaja Yoga  to  Everyone:\\nthoughts, tinging, breeze, ...\\n08:56:27 From  Zoom user  to  Everyone:\\nWarmth at centre of palm of hand\\n08:56:57 From  Tony  to  Everyone:\\nvery relaxed and tingling on the fingers and cool on top of the head\\n08:57:03 From  B L  to  Everyone:\\nI started to see golden orbs\\n08:57:08 From  Lateefah Kituku  to  Everyone:\\nTingling in my right hands and fingers.\\n08:57:11 From  Sherry Li  to  Everyone:\\nfeel sleepy\\n08:57:12 From  alice mk  to  Everyone:\\nmy forehead sweat a little and a mild tinging on my rgt hand\\n08:57:18 From  Sherril  to  Everyone:\\nI was distracted by body discomfort - aches and pains. Then heat on my face\\n08:57:48 From  afazaa  to  Everyone:\\nfeeling things are moving around me or imbalanced\\n08:57:48 From  Mok Chun Yin  to  Everyone:\\nMy right hand/arm is tired\\n08:57:51 From  Terrica G  to  Everyone:\\nGrateful for you all. Thank you for this mediation. I enjoyed the style.\\n08:57:53 From  Eric Suvak  to  Everyone:\\nlegs hurt during meditation. but I was meditating about half hour before this\\n08:58:03 From  Prakriti  to  Everyone:\\ntingling hands, feel of energy in my left palm and my reiki energy activated\\n08:59:05 From  liz  to  Everyone:\\nwhat about itching?\\n09:00:26 From  Diane Loh  to  Everyone:\\nFainting spell\\n09:00:34 From  Maya  to  Everyone:\\nsleepy and heaviness on my head and in my right hand\\n09:00:39 From  Sherril  to  Everyone:\\nthank you\\n09:00:51 From  Sahaja Yoga  to  Everyone:\\nhttps://chat.whatsapp.com/DAQ8UFcBTXi0ukInIt9TrW\\n09:14:51 From  Elizabeth  to  Everyone:\\ndo we have to do these steps every time?\\n09:15:09 From  Sahaja Yoga  to  Everyone:\\nonly 3 step balancing\\n09:15:14 From  Sahaja Yoga  to  Everyone:\\nplease share feedback\\n09:15:34 From  Sahaja Yoga  to  Everyone:\\nhow it was different from first round of guided meditation\\n09:15:38 From  Manish  to  Everyone:\\ni suddenly for a second of 2 felt complete dissociation from the body and mind.\\n09:15:38 From  Lateefah Kituku  to  Everyone:\\nI experienced a great calmness throughout my body.\\n09:15:54 From  Seth  to  Everyone:\\nhow to react to reoccurring thoughts that try to invoke a certain feeling?\\n09:16:23 From  B L  to  Everyone:\\nBoth arms tired\\n09:16:38 From  Mok Chun Yin  to  Everyone:\\nI feel the ability to concentrate, but not any need to do anything.\\n09:17:03 From  Tony  to  Everyone:\\nextremely relaxed and quite content\\n09:19:28 From  Sahaja Yoga  to  Everyone:\\nthanks Tony, Mok Chun Yin, Lateefah, Seth, Manish, ELizabeth, Maya, Sherill, Diane, Prakriti and all for feedback and particpation\\n09:19:32 From  Manish  to  Everyone:\\nReally appreciated this class. very grateful to you all. will see u in the next class for sure.  thank  You.❤️\\n09:19:36 From  Seth  to  Everyone:\\nthank you for answering\\n09:19:43 From  B L  to  Everyone:\\nThx very much\\n09:19:57 From  Andrew L  to  Everyone:\\nThanks very much\\n09:20:03 From  Mok Chun Yin  to  Everyone:\\nThank you!\\n09:20:11 From  B L  to  Everyone:\\nThe what’s app chat link didn’t work for me\\n09:22:40 From  Prakriti  to  Everyone:\\nThank you,  all.\\n09:24:08 From  B L  to  Everyone:\\nI cannot answer midweek question because I would have to check international times\\n09:24:29 From  Sahaja Yoga  to  B L(Direct Message):\\nplease share your location BL\\n09:24:45 From  Mok Chun Yin  to  Everyone:\\nEven thought I would love to join again. I can’t join in the midweek this time. Would be great if there is an option for “none”.\\n09:24:55 From  B L  to  Sahaja Yoga(Direct Message):\\nSydney Australia\\n09:25:41 From  Sahaja Yoga  to  B L(Direct Message):\\nThursday 8:45 PM\\n09:26:07 From  B L  to  Sahaja Yoga(Direct Message):\\nAnswered first two questions but survey would not submit as had not answered third questions\\n09:26:37 From  Mok Chun Yin  to  Everyone:\\nI live in Japan\\n09:26:52 From  Manish  to  Everyone:\\nvamcouver\\n09:26:53 From  Manish  to  Everyone:\\nn\\n09:26:58 From  Manish  to  Everyone:\\nVancouver\\n09:27:45 From  Manish  to  Everyone:\\nthank You\\n09:28:11 From  Sahaja Yoga  to  Everyone:\\nhttps://chat.whatsapp.com/DAQ8UFcBTXi0ukInIt9TrW\\n09:29:06 From  Seth  to  Everyone:\\njoined app ty.\\n09:29:14 From  B L  to  Sahaja Yoga(Direct Message):\\nGet chat address is invalid\\n09:29:46 From  B L  to  Sahaja Yoga(Direct Message):\\nI don’t know how to do that!!!\\n09:29:58 From  Seth  to  Everyone:\\n1 more question. how to deal with noise from outside\\n09:30:27 From  Sahaja Yoga  to  B L(Direct Message):\\nshare your WhatsApp number here\\n09:30:37 From  alice mk  to  Everyone:\\nwhere can I watch the video for foot soaking. tks\\n09:31:48 From  Sahaja Yoga  to  Everyone:\\nhttps://www.youtube.com/watch?v=xXpg1zjvU_Y\\n09:31:56 From  Sahaja Yoga  to  Everyone:\\nfootsoak meditation\\n09:32:20 From  B L  to  Sahaja Yoga(Direct Message):\\nWhat does it protect against?\\n09:33:46 From  alice mk  to  Everyone:\\nthank you very much\\n09:34:16 From  B L  to  Sahaja Yoga(Direct Message):\\nVery helpful thx\\n09:35:30 From  Sherril  to  Everyone:\\nthank you kabir\\n09:36:03 From  iPhone  to  Sahaja Yoga(Direct Message):\\nkris.unny@gmail.com\\n09:36:27 From  Seth  to  Everyone:\\nthanks for everything , everyone 🙏\\n09:36:52 From  Mok Chun Yin  to  Everyone:\\nThank you!!\\n09:36:58 From  Sherry Li  to  Everyone:\\nThank you 🙏\\n09:37:05 From  Sahaja Yoga  to  Everyone:\\nhttps://chat.whatsapp.com/DAQ8UFcBTXi0ukInIt9TrW\\n09:37:06 From  Lateefah Kituku  to  Everyone:\\nThank you so much!\\n09:48:02 From  Gopi Gamini  to  Everyone:\\nhttps://www.free-meditation.ca/archives/26282\\n09:51:35 From  Gopi Gamini  to  Everyone:\\n@seth an interesting article on cats I posted in the chat\\n09:57:14 From  Mok Chun Yin  to  Sahaja Yoga(Direct Message):\\n+852 51349992\\n09:57:24 From  Seth  to  Everyone:\\n@Gopi ty\\n09:57:29 From  Mok Chun Yin  to  Sahaja Yoga(Direct Message):\\nThis should be my WhatsApp number\\n09:59:02 From  Seth  to  Everyone:\\nbye everyone it was enlightening\""
            ]
          },
          "metadata": {},
          "execution_count": 6
        }
      ]
    }
  ]
}
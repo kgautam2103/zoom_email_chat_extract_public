{
  "nbformat": 4,
  "nbformat_minor": 0,
  "metadata": {
    "colab": {
      "name": "zoom_email_chat_extract_public.ipynb",
      "provenance": [],
      "collapsed_sections": [],
      "authorship_tag": "ABX9TyN3M8wYF++63DjwvjFwox5B",
      "include_colab_link": true
    },
    "kernelspec": {
      "name": "python3",
      "display_name": "Python 3"
    },
    "language_info": {
      "name": "python"
    }
  },
  "cells": [
    {
      "cell_type": "markdown",
      "metadata": {
        "id": "view-in-github",
        "colab_type": "text"
      },
      "source": [
        "<a href=\"https://colab.research.google.com/github/kgautam2103/zoom_email_chat_extract_public/blob/main/zoom_email_chat_extract_public.ipynb\" target=\"_parent\"><img src=\"https://colab.research.google.com/assets/colab-badge.svg\" alt=\"Open In Colab\"/></a>"
      ]
    },
    {
      "cell_type": "code",
      "metadata": {
        "id": "gHMfmDuL_7rs"
      },
      "source": [
        "# when you run this code, you will get a link below\n",
        "#Follow the link, copy the code, paste it in the box and then press Enter on the keyboard.\n",
        "#This will authenticate you and will allow you to interact with Google Sheets and other Google apps in your notebook.\n",
        "from google.colab import auth\n",
        "auth.authenticate_user()\n",
        "import gspread\n",
        "from oauth2client.client import GoogleCredentials\n",
        "gc = gspread.authorize(GoogleCredentials.get_application_default())"
      ],
      "execution_count": null,
      "outputs": []
    },
    {
      "cell_type": "code",
      "metadata": {
        "id": "cf4xjGSM61_Q"
      },
      "source": [
        "import sys\n",
        "import re\n",
        "import pandas as pd\n",
        "import numpy as np\n",
        "import traceback\n",
        "from io import StringIO\n",
        "\n",
        "wb = gc.open_by_url('https://docs.google.com/spreadsheets/d/1WhACIU6F7i9VwDxXoqzx6GEwutQI5HpIYl4v6H49-7Q/edit#gid=0')\n",
        "\n",
        "input_sheet = wb.worksheet('sahajyogis')\n",
        "inputdata = input_sheet.get_all_values()\n",
        "inputdata_df = pd.DataFrame(inputdata, columns=['id','name','email'])\n",
        "inputdata_df = inputdata_df.drop(inputdata_df.index[0])\n",
        "ref_name_list = list(filter(None, inputdata_df['name'].tolist()))\n",
        "ref_name_list = [i.lower() for i in ref_name_list]\n",
        "\n",
        "from google.colab import files\n",
        "chat_upload = files.upload()\n",
        "\n",
        "value_iterator = iter(chat_upload.values()) \n",
        "chat_details = next(value_iterator)\n",
        "chat_details = str(chat_details.decode('utf-8'))\n",
        "chat_str = StringIO(chat_details)\n",
        "chat_data = pd.read_csv(chat_str, sep=\" : \",names=[\"details\",\"chat\"])\n",
        "chat_data = chat_data.replace(to_replace='None', value=np.nan).dropna()\n",
        "detail_list = chat_data[\"details\"].values.tolist()\n",
        "name_list=[]\n",
        "for name_detail in detail_list:\n",
        "  from_index = name_detail.find(\"From \")\n",
        "  to_index = name_detail.find(\" to\")\n",
        "  if to_index == -1:\n",
        "      name = name_detail[from_index + 6:]\n",
        "  else:\n",
        "      name = name_detail[from_index + 6:to_index - 1]\n",
        "  name_list.append(name)\n",
        "  #print(from_index,to_index,name)\n",
        "chat_data[\"name\"] = name_list\n",
        "\n",
        "chat_list = chat_data[\"chat\"].values.tolist()\n",
        "email_list = []\n",
        "for chat in chat_list:\n",
        "  atrate_index = chat.find(\"@\")\n",
        "  #print(atrate_index)\n",
        "  if atrate_index == -1:\n",
        "      email = \"\"\n",
        "  else:\n",
        "      space_index_before = chat[:atrate_index].rfind(\" \")\n",
        "      space_index_after = chat[atrate_index:].find(\" \")\n",
        "      if space_index_after == -1 and space_index_before == -1:\n",
        "          email = chat\n",
        "      else:\n",
        "          #email = chat[space_index_before+1:space_index_after+1]\n",
        "          if space_index_before == -1:\n",
        "              email = chat[:atrate_index+space_index_after]\n",
        "          elif space_index_after == -1:\n",
        "              email = chat[space_index_before+1:]\n",
        "          else:\n",
        "              email = chat[space_index_before+1:atrate_index+space_index_after]\n",
        "  email_list.append(email)\n",
        "\n",
        "chat_data[\"email\"] = email_list\n",
        "extract_df = chat_data[[\"name\",\"email\",\"chat\"]]\n",
        "#final_df_email = extract_df.groupby(\"name\").apply(lambda x: x[\"email\"].tolist())\n",
        "final_df_email = extract_df.groupby(\"name\").apply(lambda x: [x[\"email\"].tolist(), x[\"chat\"].tolist()]).apply(pd.Series)\n",
        "#final_df_email.columns=[\"name\",\"email\"]\n",
        "\n",
        "#concat_df = pd.concat([final_df_email[0].reset_index(),final_df_email[1].reset_index()],axis=1)\n",
        "\n",
        "merge_df = pd.merge(final_df_email[0].reset_index(),final_df_email[1].reset_index(),on=\"name\")\n",
        "\n",
        "final_df = merge_df.rename(columns={0:'email',1:'chat'}, inplace=False)\n",
        "\n",
        "final_df['email'] = [(','.join(list(set(rx)))).strip(',')for rx in final_df['email']]\n",
        "\n",
        "final_df['chat'] = [(', '.join(rx)).strip(',')for rx in final_df['chat']]\n",
        "\n",
        "final_df['name'] = final_df['name'].apply(lambda x: re.sub('^sy[\\.\\s_-]*','',x,flags=re.IGNORECASE))\\\n",
        "  .apply(lambda x: re.sub('[\\.\\s_-]*sy$','',x,flags=re.IGNORECASE))\n",
        "\n",
        "final_df = final_df[~(final_df.name).str.lower().isin(ref_name_list)]\n",
        "\n",
        "final_df.to_csv('ZoomChat_Extract.csv') \n",
        "files.download(\"ZoomChat_Extract.csv\")\n",
        "\n",
        "#final_df"
      ],
      "execution_count": null,
      "outputs": []
    },
    {
      "cell_type": "code",
      "metadata": {
        "colab": {
          "base_uri": "https://localhost:8080/",
          "height": 34
        },
        "id": "OC90R4FbBkAj",
        "outputId": "53fec4d3-3010-4425-de1c-308d04e10b4a"
      },
      "source": [
        "import pandas as pd\n",
        "\n",
        "wb = gc.open_by_url('https://docs.google.com/spreadsheets/d/1YHIfMt0OFUvrYPyXZHTKKGTvDjBp9fKiFgfoGL_XLxs/edit?ts=5ee5b2b7#gid=227936794')\n",
        "\n",
        "poll1_sheet = wb.worksheet('MainPoll1')\n",
        "poll1_data = poll1_sheet.get_all_values()\n",
        "poll1_df = pd.DataFrame(poll1_data, columns=['event','name','poll1_answer'])\n",
        "poll1_df = poll1_df.drop(poll1_df.index[0])\n",
        "\n",
        "poll2_sheet = wb.worksheet('MainPoll2')\n",
        "poll2_data = poll2_sheet.get_all_values()\n",
        "poll2_df = pd.DataFrame(poll2_data, columns=['event','name','poll2_answer1','poll2_answer2','poll2_answer3'])\n",
        "poll2_df = poll2_df.drop(poll2_df.index[0])\n",
        "filter_event = input(\"enter event name like 20210626 APAC : \")\n",
        "\n",
        "filter = poll1_df['event'] == filter_event\n",
        "poll1_df_filtered = poll1_df.where(filter).dropna()\n",
        "poll2_df_filtered = poll2_df.where(filter).dropna()\n",
        "\n",
        "poll1_df_chat = pd.merge(final_df, poll1_df_filtered, on='name', how='outer')\n",
        "\n",
        "Combined_poll_df_chat = pd.merge(poll1_df_chat, poll2_df_filtered, on='name', how='outer')\n",
        "\n",
        "Combined_poll_df_chat_select = Combined_poll_df_chat[['name','email','chat','poll1_answer','poll2_answer1','poll2_answer2','poll2_answer3']]\n",
        "#Combined_poll_df_chat_select.dropna(how='all')\n",
        "\n",
        "Combined_poll_df_chat_select = Combined_poll_df_chat_select.replace(to_replace='None', value=np.nan).dropna(how='all')\n",
        "\n",
        "Combined_poll_df_chat_select.to_csv('ZoomChat_Poll_Extract.csv') \n",
        "files.download(\"ZoomChat_Poll_Extract.csv\")\n",
        "\n",
        "\n"
      ],
      "execution_count": null,
      "outputs": [
        {
          "output_type": "stream",
          "text": [
            "enter event name like 20210626 APAC : 20210725 APAC\n"
          ],
          "name": "stdout"
        },
        {
          "output_type": "display_data",
          "data": {
            "application/javascript": [
              "\n",
              "    async function download(id, filename, size) {\n",
              "      if (!google.colab.kernel.accessAllowed) {\n",
              "        return;\n",
              "      }\n",
              "      const div = document.createElement('div');\n",
              "      const label = document.createElement('label');\n",
              "      label.textContent = `Downloading \"${filename}\": `;\n",
              "      div.appendChild(label);\n",
              "      const progress = document.createElement('progress');\n",
              "      progress.max = size;\n",
              "      div.appendChild(progress);\n",
              "      document.body.appendChild(div);\n",
              "\n",
              "      const buffers = [];\n",
              "      let downloaded = 0;\n",
              "\n",
              "      const channel = await google.colab.kernel.comms.open(id);\n",
              "      // Send a message to notify the kernel that we're ready.\n",
              "      channel.send({})\n",
              "\n",
              "      for await (const message of channel.messages) {\n",
              "        // Send a message to notify the kernel that we're ready.\n",
              "        channel.send({})\n",
              "        if (message.buffers) {\n",
              "          for (const buffer of message.buffers) {\n",
              "            buffers.push(buffer);\n",
              "            downloaded += buffer.byteLength;\n",
              "            progress.value = downloaded;\n",
              "          }\n",
              "        }\n",
              "      }\n",
              "      const blob = new Blob(buffers, {type: 'application/binary'});\n",
              "      const a = document.createElement('a');\n",
              "      a.href = window.URL.createObjectURL(blob);\n",
              "      a.download = filename;\n",
              "      div.appendChild(a);\n",
              "      a.click();\n",
              "      div.remove();\n",
              "    }\n",
              "  "
            ],
            "text/plain": [
              "<IPython.core.display.Javascript object>"
            ]
          },
          "metadata": {
            "tags": []
          }
        },
        {
          "output_type": "display_data",
          "data": {
            "application/javascript": [
              "download(\"download_659e93f4-11c8-4980-a4f3-8587e8995cd6\", \"ZoomChat_Poll_Extract.csv\", 12871)"
            ],
            "text/plain": [
              "<IPython.core.display.Javascript object>"
            ]
          },
          "metadata": {
            "tags": []
          }
        }
      ]
    },
    {
      "cell_type": "code",
      "metadata": {
        "id": "Ya7-qleXBj-z"
      },
      "source": [
        ""
      ],
      "execution_count": null,
      "outputs": []
    }
  ]
}